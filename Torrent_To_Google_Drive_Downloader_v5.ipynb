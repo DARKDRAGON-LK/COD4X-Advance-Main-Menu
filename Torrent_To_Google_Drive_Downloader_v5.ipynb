{
  "nbformat": 4,
  "nbformat_minor": 0,
  "metadata": {
    "colab": {
      "name": "Torrent To Google Drive Downloader v5.ipynb",
      "provenance": [],
      "collapsed_sections": [],
      "authorship_tag": "ABX9TyO0B5A2iSLqctnROCzO2cyP",
      "include_colab_link": true
    },
    "kernelspec": {
      "name": "python3",
      "display_name": "Python 3"
    },
    "language_info": {
      "name": "python"
    }
  },
  "cells": [
    {
      "cell_type": "markdown",
      "metadata": {
        "id": "view-in-github",
        "colab_type": "text"
      },
      "source": [
        "<a href=\"https://colab.research.google.com/github/DARKDRAGON-LK/COD4X-Advance-Main-Menu/blob/master/Torrent_To_Google_Drive_Downloader_v5.ipynb\" target=\"_parent\"><img src=\"https://colab.research.google.com/assets/colab-badge.svg\" alt=\"Open In Colab\"/></a>"
      ]
    },
    {
      "cell_type": "markdown",
      "metadata": {
        "id": "NOSmc6mrAd1g"
      },
      "source": [
        "# Torrent To Google Drive Downloader v5"
      ]
    },
    {
      "cell_type": "markdown",
      "metadata": {
        "id": "ewh1Vp0xAm5d"
      },
      "source": [
        "### Mount Google Drive\n",
        "To stream files we need to mount Google Drive."
      ]
    },
    {
      "cell_type": "code",
      "metadata": {
        "id": "YStpkQzkAul_",
        "colab": {
          "base_uri": "https://localhost:8080/"
        },
        "outputId": "8b78a4aa-c202-4107-af5a-b13f385b128b"
      },
      "source": [
        "from google.colab import drive\n",
        "drive._mount('/content/drive')"
      ],
      "execution_count": 2,
      "outputs": [
        {
          "output_type": "stream",
          "name": "stdout",
          "text": [
            "Mounted at /content/drive\n"
          ]
        }
      ]
    },
    {
      "cell_type": "markdown",
      "metadata": {
        "id": "Q2iDKOCFAwnu"
      },
      "source": [
        "###Dependency\n",
        "https://www.libtorrent.org/"
      ]
    },
    {
      "cell_type": "code",
      "metadata": {
        "id": "sp85h9LiA0hX",
        "colab": {
          "base_uri": "https://localhost:8080/"
        },
        "outputId": "22671661-a63f-47b6-a4d8-1f67362485e4"
      },
      "source": [
        "!python -m pip install --upgrade pip setuptools wheel && python -m pip install lbry-libtorrent && apt install python3-libtorrent"
      ],
      "execution_count": 3,
      "outputs": [
        {
          "output_type": "stream",
          "name": "stdout",
          "text": [
            "Requirement already satisfied: pip in /usr/local/lib/python3.7/dist-packages (21.1.3)\n",
            "Collecting pip\n",
            "  Downloading pip-21.3.1-py3-none-any.whl (1.7 MB)\n",
            "\u001b[K     |████████████████████████████████| 1.7 MB 33.6 MB/s \n",
            "\u001b[?25hRequirement already satisfied: setuptools in /usr/local/lib/python3.7/dist-packages (57.4.0)\n",
            "Collecting setuptools\n",
            "  Downloading setuptools-60.2.0-py3-none-any.whl (953 kB)\n",
            "\u001b[K     |████████████████████████████████| 953 kB 33.0 MB/s \n",
            "\u001b[?25hRequirement already satisfied: wheel in /usr/local/lib/python3.7/dist-packages (0.37.0)\n",
            "Collecting wheel\n",
            "  Downloading wheel-0.37.1-py2.py3-none-any.whl (35 kB)\n",
            "Installing collected packages: wheel, setuptools, pip\n",
            "  Attempting uninstall: wheel\n",
            "    Found existing installation: wheel 0.37.0\n",
            "    Uninstalling wheel-0.37.0:\n",
            "      Successfully uninstalled wheel-0.37.0\n",
            "  Attempting uninstall: setuptools\n",
            "    Found existing installation: setuptools 57.4.0\n",
            "    Uninstalling setuptools-57.4.0:\n",
            "      Successfully uninstalled setuptools-57.4.0\n",
            "  Attempting uninstall: pip\n",
            "    Found existing installation: pip 21.1.3\n",
            "    Uninstalling pip-21.1.3:\n",
            "      Successfully uninstalled pip-21.1.3\n",
            "\u001b[31mERROR: pip's dependency resolver does not currently take into account all the packages that are installed. This behaviour is the source of the following dependency conflicts.\n",
            "datascience 0.10.6 requires folium==0.2.1, but you have folium 0.8.3 which is incompatible.\u001b[0m\n",
            "Successfully installed pip-21.3.1 setuptools-60.2.0 wheel-0.37.1\n",
            "Collecting lbry-libtorrent\n",
            "  Downloading lbry_libtorrent-1.2.4-py3-none-any.whl (2.4 MB)\n",
            "     |████████████████████████████████| 2.4 MB 27.6 MB/s            \n",
            "\u001b[?25hInstalling collected packages: lbry-libtorrent\n",
            "Successfully installed lbry-libtorrent-1.2.4\n",
            "\u001b[33mWARNING: Running pip as the 'root' user can result in broken permissions and conflicting behaviour with the system package manager. It is recommended to use a virtual environment instead: https://pip.pypa.io/warnings/venv\u001b[0m\n",
            "Reading package lists... Done\n",
            "Building dependency tree       \n",
            "Reading state information... Done\n",
            "The following additional packages will be installed:\n",
            "  libtorrent-rasterbar9\n",
            "Suggested packages:\n",
            "  libtorrent-rasterbar-dbg\n",
            "The following NEW packages will be installed:\n",
            "  libtorrent-rasterbar9 python3-libtorrent\n",
            "0 upgraded, 2 newly installed, 0 to remove and 37 not upgraded.\n",
            "Need to get 1,569 kB of archives.\n",
            "After this operation, 5,718 kB of additional disk space will be used.\n",
            "Get:1 http://archive.ubuntu.com/ubuntu bionic/universe amd64 libtorrent-rasterbar9 amd64 1.1.5-1build1 [1,258 kB]\n",
            "Get:2 http://archive.ubuntu.com/ubuntu bionic/universe amd64 python3-libtorrent amd64 1.1.5-1build1 [310 kB]\n",
            "Fetched 1,569 kB in 1s (2,020 kB/s)\n",
            "Selecting previously unselected package libtorrent-rasterbar9.\n",
            "(Reading database ... 155222 files and directories currently installed.)\n",
            "Preparing to unpack .../libtorrent-rasterbar9_1.1.5-1build1_amd64.deb ...\n",
            "Unpacking libtorrent-rasterbar9 (1.1.5-1build1) ...\n",
            "Selecting previously unselected package python3-libtorrent.\n",
            "Preparing to unpack .../python3-libtorrent_1.1.5-1build1_amd64.deb ...\n",
            "Unpacking python3-libtorrent (1.1.5-1build1) ...\n",
            "Setting up libtorrent-rasterbar9 (1.1.5-1build1) ...\n",
            "Setting up python3-libtorrent (1.1.5-1build1) ...\n",
            "Processing triggers for libc-bin (2.27-3ubuntu1.3) ...\n",
            "/sbin/ldconfig.real: /usr/local/lib/python3.7/dist-packages/ideep4py/lib/libmkldnn.so.0 is not a symbolic link\n",
            "\n"
          ]
        }
      ]
    },
    {
      "cell_type": "markdown",
      "metadata": {
        "id": "eP5rYvgCA1z4"
      },
      "source": [
        "### Code to download torrent"
      ]
    },
    {
      "cell_type": "code",
      "metadata": {
        "id": "9rzfSY67A3TP",
        "colab": {
          "base_uri": "https://localhost:8080/"
        },
        "outputId": "90ab2eeb-2cb5-4a80-df85-8404cf4c412e"
      },
      "source": [
        "import libtorrent as lt\n",
        "import time\n",
        "import datetime\n",
        "\n",
        "def download_torrent():\n",
        "    ses = lt.session()\n",
        "    ses.listen_on(6881, 6891)\n",
        "    link = input(\"Input Torrent Link or Magnet and Press Enter: \")\n",
        "    print(link)\n",
        "\n",
        "    handle = lt.add_magnet_uri(ses, link, params)\n",
        "    # change the 0 to a 1 to download sequential - this sequential option is only if you selected zip. If not,\n",
        "    # scroll farther down.\n",
        "    handle.set_sequential_download(0)\n",
        "\n",
        "    ses.start_dht()\n",
        "    begin = time.time()\n",
        "    print(datetime.datetime.now())\n",
        "\n",
        "    print('Downloading Metadata...')\n",
        "    while not handle.has_metadata():\n",
        "        time.sleep(1)\n",
        "    print('Got Metadata, Starting Torrent Download...')\n",
        "\n",
        "    print(\"Starting\", handle.name())\n",
        "\n",
        "    while handle.status().state != lt.torrent_status.seeding:\n",
        "        s = handle.status()\n",
        "        state_str = ['queued', 'checking', 'downloading metadata',\n",
        "                     'downloading', 'finished', 'seeding', 'allocating']\n",
        "        print('%.2f%% complete (down: %.1f kb/s up: %.1f kB/s peers: %d) %s ' % \\\n",
        "              (s.progress * 100, s.download_rate / 1000, s.upload_rate / 1000, \\\n",
        "               s.num_peers, state_str[s.state]))\n",
        "        time.sleep(5)\n",
        "\n",
        "    end = time.time()\n",
        "    print(handle.name(), \"COMPLETE\")\n",
        "\n",
        "    print(\"Elapsed Time: \", int((end - begin) // 60), \"min :\", int((end - begin) % 60), \"sec\")\n",
        "\n",
        "    print(datetime.datetime.now())\n",
        "\n",
        "\n",
        "zipp = input(\"Input 'Y'/'y' to zip the torrent and place it in your drive. Otherwise, leave blank. \")\n",
        "\n",
        "if zipp == 'Y' or zipp == 'y':\n",
        "    zip_name = input(\"Input name you would like for the zip file: \")\n",
        "    import shutil\n",
        "\n",
        "    params = {\n",
        "        'save_path': '/content/temp/',\n",
        "        'storage_mode': lt.storage_mode_t(2),\n",
        "    }\n",
        "    download_torrent()\n",
        "\n",
        "    print(\"now time to zip\")\n",
        "\n",
        "    print(\"Zipping ...\")\n",
        "    final_zip_directory = '/content/drive/MyDrive/Torrent/' + zip_name\n",
        "    shutil.make_archive(final_zip_directory, 'zip', '/content/temp/')\n",
        "    shutil.rmtree('/content/temp/')\n",
        "\n",
        "else:\n",
        "    params = {\n",
        "        'save_path': '/content/drive/MyDrive/Torrent/',\n",
        "        'storage_mode': lt.storage_mode_t(2),\n",
        "    }\n",
        "    download_torrent()\n",
        "\n",
        "print('\\nALL DONE!')\n"
      ],
      "execution_count": null,
      "outputs": [
        {
          "output_type": "stream",
          "name": "stdout",
          "text": [
            "Input 'Y'/'y' to zip the torrent and place it in your drive. Otherwise, leave blank. \n",
            "Input Torrent Link or Magnet and Press Enter: magnet:?xt=urn:btih:76f77c7c067a686cea4c7644bb51b90659ba726f&dn=13.Reasons.Why.S01.COMPLETE.720p.NF.WEBRip.x264-GalaxyTV[TGx]&xl=5044198916&tr=udp://tracker.coppersurfer.tk:6969/announce&tr=udp://tracker.leechers-paradise.org:6969/announce&tr=udp://bt.xxx-tracker.com:2710/announce&tr=udp://tracker.internetwarriors.net:1337/announce&tr=udp://tracker.openbittorrent.com:80/announce&tr=udp://explodie.org:6969/announce&tr=udp://tracker.opentrackr.org:1337/announce&tr=udp://tracker.tiny-vps.com:6969/announce&tr=udp://open.demonii.si:1337/announce&tr=udp://tracker.torrent.eu.org:451/announce&tr=udp://tracker.pirateparty.gr:6969/announce&tr=udp://ipv4.tracker.harry.lu:80/announce&tr=udp://tracker.cyberia.is:6969/announce&tr=udp://9.rarbg.to:2710/announce&tr=udp://denis.stalker.upeer.me:6969/announce\n",
            "magnet:?xt=urn:btih:76f77c7c067a686cea4c7644bb51b90659ba726f&dn=13.Reasons.Why.S01.COMPLETE.720p.NF.WEBRip.x264-GalaxyTV[TGx]&xl=5044198916&tr=udp://tracker.coppersurfer.tk:6969/announce&tr=udp://tracker.leechers-paradise.org:6969/announce&tr=udp://bt.xxx-tracker.com:2710/announce&tr=udp://tracker.internetwarriors.net:1337/announce&tr=udp://tracker.openbittorrent.com:80/announce&tr=udp://explodie.org:6969/announce&tr=udp://tracker.opentrackr.org:1337/announce&tr=udp://tracker.tiny-vps.com:6969/announce&tr=udp://open.demonii.si:1337/announce&tr=udp://tracker.torrent.eu.org:451/announce&tr=udp://tracker.pirateparty.gr:6969/announce&tr=udp://ipv4.tracker.harry.lu:80/announce&tr=udp://tracker.cyberia.is:6969/announce&tr=udp://9.rarbg.to:2710/announce&tr=udp://denis.stalker.upeer.me:6969/announce\n",
            "2022-01-03 07:15:17.037564\n",
            "Downloading Metadata...\n",
            "Got Metadata, Starting Torrent Download...\n",
            "Starting 13.Reasons.Why.S01.COMPLETE.720p.NF.WEBRip.x264-GalaxyTV[TGx]\n",
            "0.00% complete (down: 5.3 kb/s up: 0.4 kB/s peers: 2) downloading \n",
            "0.01% complete (down: 73.9 kb/s up: 2.7 kB/s peers: 3) downloading \n",
            "0.05% complete (down: 283.5 kb/s up: 8.8 kB/s peers: 3) downloading \n",
            "0.11% complete (down: 552.7 kb/s up: 17.0 kB/s peers: 3) downloading \n",
            "0.21% complete (down: 900.0 kb/s up: 27.3 kB/s peers: 2) downloading \n",
            "0.32% complete (down: 1107.7 kb/s up: 33.7 kB/s peers: 2) downloading \n",
            "0.47% complete (down: 1316.2 kb/s up: 39.4 kB/s peers: 2) downloading \n",
            "0.61% complete (down: 1250.0 kb/s up: 37.3 kB/s peers: 2) downloading \n",
            "0.68% complete (down: 893.9 kb/s up: 25.6 kB/s peers: 2) downloading \n",
            "0.75% complete (down: 865.3 kb/s up: 24.1 kB/s peers: 2) downloading \n",
            "0.81% complete (down: 776.9 kb/s up: 22.1 kB/s peers: 2) downloading \n",
            "0.88% complete (down: 692.5 kb/s up: 20.1 kB/s peers: 2) downloading \n",
            "0.95% complete (down: 713.9 kb/s up: 21.1 kB/s peers: 2) downloading \n",
            "1.06% complete (down: 991.6 kb/s up: 29.5 kB/s peers: 2) downloading \n",
            "1.18% complete (down: 1175.9 kb/s up: 35.1 kB/s peers: 2) downloading \n",
            "1.26% complete (down: 1015.0 kb/s up: 29.5 kB/s peers: 2) downloading \n",
            "1.36% complete (down: 994.9 kb/s up: 29.5 kB/s peers: 4) downloading \n",
            "1.47% complete (down: 1019.8 kb/s up: 30.6 kB/s peers: 4) downloading \n",
            "1.55% complete (down: 903.4 kb/s up: 27.0 kB/s peers: 4) downloading \n",
            "1.68% complete (down: 1242.7 kb/s up: 37.3 kB/s peers: 2) downloading \n",
            "1.78% complete (down: 1066.4 kb/s up: 31.5 kB/s peers: 2) downloading \n",
            "1.84% complete (down: 791.1 kb/s up: 22.4 kB/s peers: 2) downloading \n",
            "1.89% complete (down: 585.5 kb/s up: 16.4 kB/s peers: 2) downloading \n",
            "1.96% complete (down: 647.9 kb/s up: 18.5 kB/s peers: 2) downloading \n",
            "2.04% complete (down: 768.4 kb/s up: 22.6 kB/s peers: 2) downloading \n",
            "2.14% complete (down: 1004.1 kb/s up: 30.0 kB/s peers: 2) downloading \n",
            "2.26% complete (down: 1177.2 kb/s up: 34.8 kB/s peers: 2) downloading \n",
            "2.38% complete (down: 1249.8 kb/s up: 37.0 kB/s peers: 2) downloading \n",
            "2.51% complete (down: 1193.0 kb/s up: 35.6 kB/s peers: 2) downloading \n",
            "2.65% complete (down: 1513.7 kb/s up: 44.8 kB/s peers: 2) downloading \n",
            "2.81% complete (down: 1404.7 kb/s up: 41.6 kB/s peers: 2) downloading \n",
            "2.95% complete (down: 1611.7 kb/s up: 47.4 kB/s peers: 3) downloading \n",
            "3.03% complete (down: 1072.0 kb/s up: 37.1 kB/s peers: 3) downloading \n",
            "3.08% complete (down: 686.7 kb/s up: 23.6 kB/s peers: 3) downloading \n",
            "3.13% complete (down: 548.4 kb/s up: 17.0 kB/s peers: 3) downloading \n",
            "3.19% complete (down: 641.9 kb/s up: 19.3 kB/s peers: 3) downloading \n",
            "3.26% complete (down: 690.8 kb/s up: 21.2 kB/s peers: 3) downloading \n",
            "3.38% complete (down: 1057.1 kb/s up: 32.2 kB/s peers: 2) downloading \n",
            "3.51% complete (down: 1268.7 kb/s up: 37.8 kB/s peers: 2) downloading \n",
            "3.63% complete (down: 1312.9 kb/s up: 38.7 kB/s peers: 2) downloading \n",
            "3.78% complete (down: 1482.6 kb/s up: 44.0 kB/s peers: 2) downloading \n",
            "3.91% complete (down: 1368.4 kb/s up: 40.2 kB/s peers: 2) downloading \n",
            "4.00% complete (down: 1061.6 kb/s up: 29.9 kB/s peers: 2) downloading \n",
            "4.06% complete (down: 861.5 kb/s up: 24.1 kB/s peers: 3) downloading \n",
            "4.12% complete (down: 713.3 kb/s up: 20.5 kB/s peers: 3) downloading \n",
            "4.22% complete (down: 950.8 kb/s up: 27.8 kB/s peers: 3) downloading \n",
            "4.30% complete (down: 851.6 kb/s up: 24.8 kB/s peers: 3) downloading \n",
            "4.39% complete (down: 894.8 kb/s up: 26.2 kB/s peers: 3) downloading \n",
            "4.48% complete (down: 958.8 kb/s up: 28.5 kB/s peers: 2) downloading \n",
            "4.60% complete (down: 1202.2 kb/s up: 36.8 kB/s peers: 3) downloading \n",
            "4.74% complete (down: 1344.6 kb/s up: 42.6 kB/s peers: 3) downloading \n",
            "4.82% complete (down: 987.1 kb/s up: 34.4 kB/s peers: 3) downloading \n",
            "4.87% complete (down: 691.1 kb/s up: 21.2 kB/s peers: 3) downloading \n",
            "4.92% complete (down: 483.0 kb/s up: 14.2 kB/s peers: 3) downloading \n",
            "4.96% complete (down: 537.0 kb/s up: 15.7 kB/s peers: 2) downloading \n",
            "5.03% complete (down: 666.7 kb/s up: 19.7 kB/s peers: 2) downloading \n",
            "5.13% complete (down: 877.9 kb/s up: 26.3 kB/s peers: 2) downloading \n",
            "5.26% complete (down: 1239.1 kb/s up: 37.1 kB/s peers: 2) downloading \n",
            "5.43% complete (down: 1645.6 kb/s up: 49.1 kB/s peers: 2) downloading \n",
            "5.56% complete (down: 1463.4 kb/s up: 43.0 kB/s peers: 2) downloading \n",
            "5.64% complete (down: 1086.0 kb/s up: 30.8 kB/s peers: 2) downloading \n",
            "5.71% complete (down: 874.9 kb/s up: 24.5 kB/s peers: 2) downloading \n",
            "5.79% complete (down: 857.6 kb/s up: 24.6 kB/s peers: 2) downloading \n",
            "5.89% complete (down: 907.9 kb/s up: 26.9 kB/s peers: 2) downloading \n",
            "6.02% complete (down: 1162.3 kb/s up: 34.7 kB/s peers: 2) downloading \n",
            "6.15% complete (down: 1355.5 kb/s up: 40.2 kB/s peers: 2) downloading \n",
            "6.28% complete (down: 1405.5 kb/s up: 52.5 kB/s peers: 3) downloading \n",
            "6.34% complete (down: 856.1 kb/s up: 28.0 kB/s peers: 3) downloading \n",
            "6.38% complete (down: 609.9 kb/s up: 18.3 kB/s peers: 2) downloading \n",
            "6.44% complete (down: 668.4 kb/s up: 19.8 kB/s peers: 2) downloading \n",
            "6.53% complete (down: 836.2 kb/s up: 24.9 kB/s peers: 2) downloading \n",
            "6.61% complete (down: 855.7 kb/s up: 25.1 kB/s peers: 2) downloading \n",
            "6.66% complete (down: 668.0 kb/s up: 19.9 kB/s peers: 3) downloading \n",
            "6.73% complete (down: 655.8 kb/s up: 20.1 kB/s peers: 3) downloading \n",
            "6.82% complete (down: 932.0 kb/s up: 28.1 kB/s peers: 2) downloading \n",
            "6.94% complete (down: 1147.2 kb/s up: 34.3 kB/s peers: 2) downloading \n",
            "7.00% complete (down: 682.4 kb/s up: 19.7 kB/s peers: 2) downloading \n",
            "7.04% complete (down: 614.6 kb/s up: 17.3 kB/s peers: 2) downloading \n",
            "7.11% complete (down: 629.1 kb/s up: 18.1 kB/s peers: 2) downloading \n",
            "7.18% complete (down: 729.9 kb/s up: 21.7 kB/s peers: 2) downloading \n",
            "7.30% complete (down: 1030.2 kb/s up: 30.9 kB/s peers: 3) downloading \n",
            "7.42% complete (down: 1155.0 kb/s up: 41.9 kB/s peers: 3) downloading \n",
            "7.54% complete (down: 1222.3 kb/s up: 40.5 kB/s peers: 3) downloading \n",
            "7.59% complete (down: 820.6 kb/s up: 24.7 kB/s peers: 3) downloading \n",
            "7.62% complete (down: 550.1 kb/s up: 15.9 kB/s peers: 3) downloading \n",
            "7.68% complete (down: 597.4 kb/s up: 17.5 kB/s peers: 2) downloading \n",
            "7.75% complete (down: 643.5 kb/s up: 19.0 kB/s peers: 2) downloading \n",
            "7.83% complete (down: 750.9 kb/s up: 22.3 kB/s peers: 2) downloading \n",
            "7.93% complete (down: 923.3 kb/s up: 27.7 kB/s peers: 2) downloading \n",
            "8.03% complete (down: 916.9 kb/s up: 26.7 kB/s peers: 2) downloading \n",
            "8.11% complete (down: 878.9 kb/s up: 25.8 kB/s peers: 2) downloading \n",
            "8.23% complete (down: 1107.2 kb/s up: 32.7 kB/s peers: 2) downloading \n",
            "8.34% complete (down: 1110.6 kb/s up: 32.8 kB/s peers: 2) downloading \n",
            "8.41% complete (down: 981.5 kb/s up: 28.3 kB/s peers: 2) downloading \n",
            "8.52% complete (down: 1020.1 kb/s up: 29.8 kB/s peers: 2) downloading \n",
            "8.62% complete (down: 1077.6 kb/s up: 32.0 kB/s peers: 2) downloading \n",
            "8.75% complete (down: 1202.0 kb/s up: 35.5 kB/s peers: 2) downloading \n",
            "8.87% complete (down: 1334.2 kb/s up: 53.0 kB/s peers: 3) downloading \n",
            "8.98% complete (down: 1249.5 kb/s up: 41.4 kB/s peers: 3) downloading \n",
            "9.09% complete (down: 1176.2 kb/s up: 36.3 kB/s peers: 2) downloading \n",
            "9.25% complete (down: 1401.8 kb/s up: 42.3 kB/s peers: 2) downloading \n",
            "9.34% complete (down: 1063.0 kb/s up: 30.9 kB/s peers: 2) downloading \n",
            "9.41% complete (down: 912.7 kb/s up: 26.5 kB/s peers: 2) downloading \n",
            "9.53% complete (down: 1220.8 kb/s up: 36.6 kB/s peers: 2) downloading \n",
            "9.64% complete (down: 1092.7 kb/s up: 32.3 kB/s peers: 2) downloading \n",
            "9.71% complete (down: 859.7 kb/s up: 25.2 kB/s peers: 2) downloading \n",
            "9.83% complete (down: 955.9 kb/s up: 28.7 kB/s peers: 2) downloading \n",
            "9.95% complete (down: 1249.1 kb/s up: 36.9 kB/s peers: 2) downloading \n",
            "10.10% complete (down: 1364.4 kb/s up: 40.5 kB/s peers: 2) downloading \n",
            "10.25% complete (down: 1529.9 kb/s up: 45.4 kB/s peers: 2) downloading \n",
            "10.39% complete (down: 1434.6 kb/s up: 42.8 kB/s peers: 3) downloading \n",
            "10.45% complete (down: 888.4 kb/s up: 26.7 kB/s peers: 3) downloading \n",
            "10.54% complete (down: 927.9 kb/s up: 34.7 kB/s peers: 4) downloading \n",
            "10.59% complete (down: 616.8 kb/s up: 21.8 kB/s peers: 4) downloading \n",
            "10.65% complete (down: 688.8 kb/s up: 21.4 kB/s peers: 4) downloading \n",
            "10.74% complete (down: 821.8 kb/s up: 24.9 kB/s peers: 3) downloading \n",
            "10.83% complete (down: 1022.7 kb/s up: 30.8 kB/s peers: 2) downloading \n",
            "10.95% complete (down: 1037.8 kb/s up: 31.0 kB/s peers: 2) downloading \n",
            "11.07% complete (down: 1197.1 kb/s up: 35.6 kB/s peers: 2) downloading \n",
            "11.22% complete (down: 1531.2 kb/s up: 45.5 kB/s peers: 2) downloading \n",
            "11.41% complete (down: 1772.0 kb/s up: 52.6 kB/s peers: 2) downloading \n",
            "11.54% complete (down: 1500.3 kb/s up: 43.7 kB/s peers: 2) downloading \n"
          ]
        }
      ]
    }
  ]
}